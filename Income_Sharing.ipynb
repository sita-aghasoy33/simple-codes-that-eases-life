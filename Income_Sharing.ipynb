{
  "nbformat": 4,
  "nbformat_minor": 0,
  "metadata": {
    "colab": {
      "provenance": [],
      "collapsed_sections": []
    },
    "kernelspec": {
      "name": "python3",
      "display_name": "Python 3"
    },
    "language_info": {
      "name": "python"
    }
  },
  "cells": [
    {
      "cell_type": "code",
      "source": [
        "def junior_senior_comp(total_amount, jun_work_time = 1, sen_work_time = 1):\n",
        "  jun_coeff = 1\n",
        "  sen_coeff = 2\n",
        "  base_duration = min(jun_work_time, sen_work_time)\n",
        "  #print(base_duration)\n",
        "  jun_time_rate = jun_work_time/base_duration\n",
        "  sen_time_rate = sen_work_time/base_duration\n",
        "  #print(jun_time_rat,sen_time_rat)\n",
        "  no_of_rates = jun_coeff*jun_time_rate + sen_coeff*sen_time_rate\n",
        "  base_payment = total_amount/no_of_rates\n",
        "  #print(total_amount, no_of_rats,base_payment)\n",
        "  jun_income = base_payment*jun_coeff*jun_time_rate\n",
        "  sen_income = base_payment*sen_coeff*sen_time_rate\n",
        "\n",
        "  return {'junior income': jun_income,  'senior income': sen_income}"
      ],
      "metadata": {
        "id": "5WLHsGjgWC0K"
      },
      "execution_count": null,
      "outputs": []
    },
    {
      "cell_type": "code",
      "source": [
        "junior_senior_comp(9000, 20, 10)"
      ],
      "metadata": {
        "colab": {
          "base_uri": "https://localhost:8080/"
        },
        "id": "oG8BiJE2UMkf",
        "outputId": "76b73f06-48e3-48ea-8a5a-f6cb2396a63d"
      },
      "execution_count": null,
      "outputs": [
        {
          "output_type": "execute_result",
          "data": {
            "text/plain": [
              "{'junior income': 4500.0, 'senior income': 4500.0}"
            ]
          },
          "metadata": {},
          "execution_count": 127
        }
      ]
    },
    {
      "cell_type": "code",
      "source": [
        "def income_sharing(total_amount, position1 = \"Junior\", work_time1 = 1, position2 = \"Senior\", work_time2 = 1):\n",
        "  jun_coeff = 1\n",
        "  sen_coeff = 2\n",
        "  base_duration = min(work_time1, work_time2)\n",
        "  #print(base_duration)\n",
        "  time_rat1 = work_time1/base_duration\n",
        "  time_rat2 = work_time2/base_duration\n",
        "  #print(jun_time_rat,sen_time_rat)\n",
        "  if position1 == \"Junior\":\n",
        "    rate1 = jun_coeff*time_rat1\n",
        "  elif position1 == \"Senior\":\n",
        "    rate1 = sen_coeff*time_rat1\n",
        "  \n",
        "  if position2 == \"Junior\":\n",
        "    rate2 = jun_coeff*time_rat2\n",
        "  elif position2 == \"Senior\":\n",
        "    rate2 = sen_coeff*time_rat2\n",
        "\n",
        "  no_of_rates = rate1 + rate2\n",
        "  base_payment = total_amount/no_of_rates\n",
        "  #print(total_amount, no_of_rats, base_payment)\n",
        "\n",
        "  income1 = base_payment*rate1\n",
        "  income2 = base_payment*rate2\n",
        "\n",
        "  return {'first income': income1,  'second income': income2}"
      ],
      "metadata": {
        "id": "koGzK2U9R25J"
      },
      "execution_count": null,
      "outputs": []
    },
    {
      "cell_type": "code",
      "source": [
        "income_sharing(9000,\"Junior\", 20,\"Junior\", 10)"
      ],
      "metadata": {
        "colab": {
          "base_uri": "https://localhost:8080/"
        },
        "id": "7RBHrL3sXPm3",
        "outputId": "cbb11740-2270-4dc0-d123-cc0122f1d9c4"
      },
      "execution_count": null,
      "outputs": [
        {
          "output_type": "execute_result",
          "data": {
            "text/plain": [
              "{'first income': 6000.0, 'second income': 3000.0}"
            ]
          },
          "metadata": {},
          "execution_count": 121
        }
      ]
    },
    {
      "cell_type": "code",
      "source": [
        "class ProjectIncome:\n",
        "    def __init__(self, income_amount):\n",
        "        self.income_amount = income_amount\n",
        "\n",
        "class Employee:\n",
        "    JUN_COEFF = 1\n",
        "    SEN_COEFF = 2\n",
        "    def __init__(self, employee_name, employee_position, working_hour):\n",
        "        self.employee_name = employee_name\n",
        "        self.employee_position = employee_position\n",
        "        self.working_hour = working_hour\n",
        "\n",
        "\n",
        "    def calculate_salary(self,ProjectIncome,emp1):\n",
        "      self.base_duration = min(self.working_hour, emp1.working_hour)\n",
        "\n",
        "      self.time_rate = self.working_hour/self.base_duration\n",
        "      emp1.time_rate = emp1.working_hour/self.base_duration\n",
        "\n",
        "      if self.employee_position == \"Junior\":\n",
        "        self.rate = Employee.JUN_COEFF*self.time_rate\n",
        "      elif self.employee_position == \"Senior\":\n",
        "        self.rate = Employee.SEN_COEFF*self.time_rate\n",
        "\n",
        "      if emp1.employee_position == \"Junior\":\n",
        "        emp1.rate = Employee.JUN_COEFF*emp1.time_rate\n",
        "      elif emp1.employee_position == \"Senior\":\n",
        "        emp1.rate = Employee.SEN_COEFF*emp1.time_rate\n",
        "\n",
        "      no_of_rates = emp1.rate + self.rate\n",
        "      base_payment = ProjectIncome/no_of_rates\n",
        "      #print(total_amount, no_of_rats, base_payment)\n",
        "\n",
        "      self.income = base_payment*self.rate\n",
        "      return self.income\n"
      ],
      "metadata": {
        "id": "QYAhTPzmXrnt"
      },
      "execution_count": null,
      "outputs": []
    },
    {
      "cell_type": "code",
      "source": [
        "jun = Employee('A.S','Junior',12)\n",
        "sen = Employee('A.F','Senior',12)"
      ],
      "metadata": {
        "id": "wgzGw4vIZOry"
      },
      "execution_count": null,
      "outputs": []
    },
    {
      "cell_type": "code",
      "source": [
        "print(jun.calculate_salary(3500, sen))\n",
        "print(sen.calculate_salary(3500, jun))"
      ],
      "metadata": {
        "colab": {
          "base_uri": "https://localhost:8080/"
        },
        "id": "sNZXzwv8ZSKM",
        "outputId": "4a8cb639-fc37-4b8a-abb7-b50f31d238a4"
      },
      "execution_count": null,
      "outputs": [
        {
          "output_type": "stream",
          "name": "stdout",
          "text": [
            "1166.6666666666667\n",
            "2333.3333333333335\n"
          ]
        }
      ]
    },
    {
      "cell_type": "code",
      "source": [],
      "metadata": {
        "id": "1Muvj0VxKEbB"
      },
      "execution_count": null,
      "outputs": []
    }
  ]
}