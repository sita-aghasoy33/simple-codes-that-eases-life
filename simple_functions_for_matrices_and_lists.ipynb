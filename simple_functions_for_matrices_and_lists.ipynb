{
  "nbformat": 4,
  "nbformat_minor": 0,
  "metadata": {
    "colab": {
      "provenance": [],
      "collapsed_sections": []
    },
    "kernelspec": {
      "name": "python3",
      "display_name": "Python 3"
    },
    "language_info": {
      "name": "python"
    }
  },
  "cells": [
    {
      "cell_type": "code",
      "source": [
        "import pandas as pd\n",
        "import numpy as np"
      ],
      "metadata": {
        "id": "rouYzkGfrdeu"
      },
      "execution_count": null,
      "outputs": []
    },
    {
      "cell_type": "code",
      "source": [
        "#@title Write a function called 'get_stat()' that takes in the above defined list of dictionaries \"books\" and returns the dictionary containing the title, price, and author of the book with the given condition. { vertical-output: true, form-width: \"390px\" }\n",
        "#\n",
        "def get_stat(list_of_dict, by, function = max):\n",
        "  \"\"\"\n",
        "  This function gets the value that matches the given function statistics for \n",
        "  given key name from the list of dictionaries with the same keys, without \n",
        "  converting it to a DataFrame object. \n",
        "\n",
        "  For exaple, if we write function as:\n",
        "\n",
        "  get_stat(list_of_dict = prodcts, by = 'price', function = max)\n",
        "\n",
        "  we find the product from products list with the maximum price value.\n",
        "\n",
        "  list_of_dict  --> name of list of dictionaries\n",
        "  by            --> the key name we want to sort values by\n",
        "  function      --> min, max or other suitable statistics that we want to match \n",
        "                    element (for example the element with the price that equals \n",
        "                    maximum price)\n",
        "\n",
        "  \"\"\"\n",
        "  for i in  range(len(list_of_dict)):\n",
        "      if list_of_dict[i][by] == function([list_of_dict[i][by] for i in range(len(list_of_dict))]):\n",
        "          return list_of_dict[i]"
      ],
      "metadata": {
        "id": "QDWZnsatNUrz"
      },
      "execution_count": null,
      "outputs": []
    },
    {
      "cell_type": "code",
      "execution_count": null,
      "metadata": {
        "id": "fBI0sRyDv_ob"
      },
      "outputs": [],
      "source": [
        "#@title List of dictionaries for testing { vertical-output: true, form-width: \"390px\" }\n",
        "books = [\n",
        "    {\n",
        "        \"title\": \"Genetic Algorithms and Machine Learning for Programmers\",\n",
        "        \"price\": 36.99,\n",
        "        \"author\": \"Frances Buontempo\"\n",
        "    },\n",
        "    {\n",
        "        \"title\": \"The Visual Display of Quantitative Information\",\n",
        "        \"price\": 38.00,        \n",
        "        \"author\": \"Edward Tufte\"\n",
        "        \n",
        "    },\n",
        "    {\n",
        "        \"title\": \"Practical Object-Oriented Design\",\n",
        "        \"author\": \"Sandi Metz\",\n",
        "        \"price\": 30.47\n",
        "    },\n",
        "    {\n",
        "        \"title\": \"Weapons of Math Destruction\",\n",
        "        \"author\": \"Cathy O'Neil\",\n",
        "        \"price\": 45.44\n",
        "    }\n",
        "]"
      ]
    },
    {
      "cell_type": "code",
      "execution_count": null,
      "metadata": {
        "id": "egJmdmoPv_ov",
        "outputId": "df19db95-ea05-4a53-c3b0-3d15fbd88856",
        "colab": {
          "base_uri": "https://localhost:8080/"
        }
      },
      "outputs": [
        {
          "output_type": "execute_result",
          "data": {
            "text/plain": [
              "{'title': 'Practical Object-Oriented Design',\n",
              " 'author': 'Sandi Metz',\n",
              " 'price': 30.47}"
            ]
          },
          "metadata": {},
          "execution_count": 11
        }
      ],
      "source": [
        "get_stat(books, 'price', min)"
      ]
    },
    {
      "cell_type": "code",
      "execution_count": null,
      "metadata": {
        "id": "spJvKXwzY0gq"
      },
      "outputs": [],
      "source": [
        "def rev_arr(array):\n",
        "  \"\"\"\n",
        "  This functions reverses the elements in even and odd indeces.\n",
        "  \"\"\"\n",
        "    # created a row variable with one row and len(array[0]) columns, in order to stack new rows to it in future\n",
        "    row = np.ones(len(array[0]), dtype = 'int')\n",
        "    # created a column variable with one column and len(array[0]) rows, in order to stack new columns to it in future\n",
        "    col = np.ones(len(array[:,0]), dtype = 'int').reshape(len(array[:,0]),1)\n",
        "    \n",
        "    if len(array[0])%2 == 0:\n",
        "        \"\"\"len(array[0]) shows the number columns in a matrix, \n",
        "        if the number of columns is even,\n",
        "        we can reverse the elements within rows in order to replace odd indices with even ones\"\"\"\n",
        "        \n",
        "        for i in range(len(array)):\n",
        "            # reverse each row and stack it np.ones array named row\n",
        "            row = np.vstack([row, array[i][::-1]])\n",
        "        # eliminate first row cosisting of ones\n",
        "        return row[1:]\n",
        "       \n",
        "    elif len(array)%2 == 0:\n",
        "        \"\"\"len(array) shows the number rows in a matrix, \n",
        "        if the number of rows is even,\n",
        "        we can reverse the elements within columns in order to replace odd indices with even ones\"\"\"\n",
        "    \n",
        "        for i in range(len(array[0])):\n",
        "            # reverse each column and stack it np.ones array named col\n",
        "            col = np.hstack([col, array[:,i][::-1].reshape(len(array[:,0]),1)])\n",
        "            \n",
        "        # eliminate first column cosisting of ones\n",
        "        return col[:,1:]\n",
        "    \n",
        "    else:\n",
        "        \"\"\"if the size of matrix is not even,\n",
        "        it is not technically possible to replace odds and evens, \n",
        "        because one of the elements remains after pairing all odd and even indices.\n",
        "        We can replace all of them, except one.\"\"\"\n",
        "        \n",
        "        # creating a new row variable with one column less than original array\n",
        "        row = np.ones(len(array[0])-1, dtype = 'int')\n",
        "        \n",
        "        # for all rows in array reverse all elements in row, except the last element (column)\n",
        "        for i in range(len(array)):\n",
        "                row = np.vstack([row, array[i, :len(array[0])-1][::-1]])\n",
        "                \n",
        "        # creating a new row variable with one element (as we stack only one column to it)\n",
        "        col = np.ones(1, dtype = 'int')\n",
        "        # then reverse the last column (cosisting of last elements of all rows)\n",
        "        col = np.hstack([col,  array[:len(array)-1, len(array[0])-1][::-1], array[len(array)-1, len(array[0])-1]])\n",
        "        return np.hstack([row,col.reshape(len(array)+1,1)])[1:]"
      ]
    },
    {
      "cell_type": "code",
      "source": [],
      "metadata": {
        "id": "BDr11-QHrAni"
      },
      "execution_count": null,
      "outputs": []
    },
    {
      "cell_type": "code",
      "execution_count": null,
      "metadata": {
        "id": "dsJEE7TCY0gW"
      },
      "outputs": [],
      "source": [
        "#@title Creating different matrices in order to check 'get_stat()' function. { vertical-output: true, form-width: \"390px\" }\n",
        "b_3_3 = np.array([['00', '01', '02'],\n",
        "                  ['10', '11', '12'], \n",
        "                  ['20', '21', '22']])\n",
        "\n",
        "b_3_4 = np.array([['00', '01', '02', '03'],\n",
        "                  ['10', '11', '12', '13'], \n",
        "                  ['20', '21', '22', '23']])\n",
        "\n",
        "b_2_4 = np.array([['00', '01', '02', '03'],\n",
        "                  ['10', '11', '12', '13']])\n",
        "\n",
        "b_4_3 = np.array([['00', '01', '02'],\n",
        "                  ['10', '11', '12'], \n",
        "                  ['20', '21', '22'],\n",
        "                  ['30', '31', '32']])\n",
        "\n",
        "b_4_4 = np.array([['00', '01', '02', '03'],\n",
        "                  ['10', '11', '12', '13'], \n",
        "                  ['20', '21', '22', '23'],\n",
        "                  ['30', '31', '32', '33']])\n",
        "\n",
        "b_4_5 = np.array([['00', '01', '02', '03', '04'],\n",
        "                  ['10', '11', '12', '13', '14'], \n",
        "                  ['20', '21', '22', '23', '24'],\n",
        "                  ['30', '31', '32', '33', '34']])\n",
        "\n",
        "b_5_4 = np.array([['00', '01', '02', '03'],\n",
        "                  ['10', '11', '12', '13'], \n",
        "                  ['20', '21', '22', '23'],\n",
        "                  ['30', '31', '32', '33'],\n",
        "                  ['40', '41', '42', '43']])\n",
        "\n",
        "b_5_5 = np.array([['00', '01', '02', '03', '04'],\n",
        "                  ['10', '11', '12', '13', '14'], \n",
        "                  ['20', '21', '22', '23', '24'],\n",
        "                  ['30', '31', '32', '33', '34'],\n",
        "                  ['40', '41', '42', '43', '44']])"
      ]
    },
    {
      "cell_type": "code",
      "execution_count": null,
      "metadata": {
        "id": "8CmJBJMnY0gt",
        "outputId": "c42e9948-30fd-41f1-8a76-1406c5cd856c",
        "colab": {
          "base_uri": "https://localhost:8080/"
        }
      },
      "outputs": [
        {
          "output_type": "execute_result",
          "data": {
            "text/plain": [
              "array([['03', '02', '01', '00', '34'],\n",
              "       ['13', '12', '11', '10', '24'],\n",
              "       ['23', '22', '21', '20', '14'],\n",
              "       ['33', '32', '31', '30', '04'],\n",
              "       ['43', '42', '41', '40', '44']], dtype='<U21')"
            ]
          },
          "metadata": {},
          "execution_count": 52
        }
      ],
      "source": [
        "rev_arr(b_5_5)"
      ]
    },
    {
      "cell_type": "code",
      "execution_count": null,
      "metadata": {
        "id": "3NZSnux4Y0gw",
        "outputId": "2647759c-9440-403c-d125-d74ce1d8fe85",
        "colab": {
          "base_uri": "https://localhost:8080/"
        }
      },
      "outputs": [
        {
          "output_type": "execute_result",
          "data": {
            "text/plain": [
              "array([['03', '02', '01', '00'],\n",
              "       ['13', '12', '11', '10'],\n",
              "       ['23', '22', '21', '20'],\n",
              "       ['33', '32', '31', '30'],\n",
              "       ['43', '42', '41', '40']], dtype='<U21')"
            ]
          },
          "metadata": {},
          "execution_count": 53
        }
      ],
      "source": [
        "rev_arr(b_5_4)"
      ]
    },
    {
      "cell_type": "code",
      "source": [
        "# explanation for 'is_symmetric1()' function\n",
        "matrix = test_array1\n",
        "total = 0\n",
        "# if th shape of matix is (1,1) (the matrix contains one element), then it is symmetric\n",
        "if matrix.shape == (1,1):\n",
        "    print(True)\n",
        "elif matrix.shape[0] == matrix.shape[1]:\n",
        "# if matrix is square matrix (number of columns is equal to number of rows),\n",
        "# we can check wether it is symmetric is not\n",
        "    for row in range(len(matrix)):\n",
        "    # for each row in matrix\n",
        "        for col in range(len(matrix[0])):\n",
        "        # for each element in row\n",
        "          # check wether the element in ij equals the element in ji (reverse address match)\n",
        "          if matrix[row,col] == matrix[col,row]:\n",
        "            # for each True case, add 1 to 'total'\n",
        "            total += 1\n",
        "    # check wether the 'total' equals multiplication of the number of columns and rows\n",
        "    # wether all the elements are equal to the element in the reverse address\n",
        "    print(total == matrix.shape[0]*matrix.shape[1])\n",
        "# for other case if the matrix is not a square matrix (the number of rows and columns differs)\n",
        "# the return false, as the non-square matrices are always assymmetic\n",
        "elif matrix.shape[0] != matrix.shape[1]:\n",
        "    print('Enter a square matrix.')\n",
        "    print(False)"
      ],
      "metadata": {
        "colab": {
          "base_uri": "https://localhost:8080/"
        },
        "id": "pcVKuCynpdjy",
        "outputId": "a5e66830-9c33-4188-d2c7-dc3ad73e4321"
      },
      "execution_count": null,
      "outputs": [
        {
          "output_type": "stream",
          "name": "stdout",
          "text": [
            "True\n"
          ]
        }
      ]
    },
    {
      "cell_type": "code",
      "source": [
        "# creating function\n",
        "def is_symmetric1(matrix):\n",
        "  total = 0\n",
        "  if matrix.shape == (1,1):\n",
        "      print(True)\n",
        "  elif matrix.shape[0] == matrix.shape[1]:\n",
        "      for row in range(len(matrix)):\n",
        "          for col in range(len(matrix[0])):\n",
        "            if matrix[row,col] == matrix[col,row]:\n",
        "              total += 1\n",
        "      print(total == matrix.shape[0]*matrix.shape[1])\n",
        "  elif matrix.shape[0] != matrix.shape[1]:\n",
        "      print('Enter a square matrix.')\n",
        "      print(False)"
      ],
      "metadata": {
        "id": "iIwtpYEdLKCT"
      },
      "execution_count": null,
      "outputs": []
    },
    {
      "cell_type": "code",
      "source": [
        "# explanation for 'is_symmetric2()' function\n",
        "matrix = test_array1\n",
        "total = 0\n",
        "# if th shape of matix is (1,1) (the matrix contains one element), then it is symmetric\n",
        "if matrix.shape == (1,1):\n",
        "    print(True)\n",
        "elif matrix.shape[0] == matrix.shape[1]:\n",
        "# if matrix is square matrix (number of columns is equal to number of rows),\n",
        "# we can check wether it is symmetric is not\n",
        "\n",
        "#===========================================\n",
        "# creating a non repeated list cosisiting of combinations of i and j (without ordering)\n",
        "  ij_list = []\n",
        "  # for the each number in matrix row (or column) range (as the number of columns and rows is the same)\n",
        "  for row in range(matrix.shape[0]):\n",
        "    col = 0\n",
        "    # while the the column (row) address is less than row (column)\n",
        "    while col <= i:\n",
        "      # append this combination of row and column number to the 'ij_list'\n",
        "      ij_list.append((row, col))\n",
        "      # iterate\n",
        "      col += 1\n",
        "#===========================================\n",
        "\n",
        "  for pair in ij_list:\n",
        "  # for each element in row\n",
        "    # check wether the element in ij equals the element in ji (reverse address match)\n",
        "    if matrix[pair] == matrix[pair[::-1]]:\n",
        "      # for each matching pair add 1 to 'total'\n",
        "      total += 1\n",
        "  # check wether the 'total' equals to the length of list 'ij_list'\n",
        "  # wether all the elements are equal to the element in the reverse address\n",
        "  print(total==len(ij_list))\n",
        "\n",
        "# for other case if the matrix is not a square matrix (the number of rows and columns differs)\n",
        "# the return false, as the non-square matrices are always assymmetic\n",
        "elif matrix.shape[0] != matrix.shape[1]:\n",
        "    print('Enter a square matrix.')\n",
        "    print(False)"
      ],
      "metadata": {
        "colab": {
          "base_uri": "https://localhost:8080/"
        },
        "id": "5HEyra7AwmlQ",
        "outputId": "cdbb94f0-06b4-4ecf-a920-3553cffc681e"
      },
      "execution_count": null,
      "outputs": [
        {
          "output_type": "stream",
          "name": "stdout",
          "text": [
            "True\n"
          ]
        }
      ]
    },
    {
      "cell_type": "code",
      "source": [
        "def is_symmetric2(matrix):\n",
        "  matrix = test_array1\n",
        "  total = 0\n",
        "  if matrix.shape == (1,1):\n",
        "      print(True)\n",
        "  elif matrix.shape[0] == matrix.shape[1]:\n",
        "    ij_list = []\n",
        "    for row in range(matrix.shape[0]):\n",
        "      col = 0\n",
        "      while col <= i:\n",
        "        ij_list.append((row, col))\n",
        "        col += 1\n",
        "    for pair in ij_list:\n",
        "      if matrix[pair] == matrix[pair[::-1]]:\n",
        "        total += 1\n",
        "    print(total==len(ij_list))\n",
        "  elif matrix.shape[0] != matrix.shape[1]:\n",
        "      print('Enter a square matrix.')\n",
        "      print(False)"
      ],
      "metadata": {
        "id": "7cpa1nH7LWl1"
      },
      "execution_count": null,
      "outputs": []
    },
    {
      "cell_type": "code",
      "execution_count": 1,
      "metadata": {
        "id": "8JpJ_Sc5Y0g9",
        "colab": {
          "base_uri": "https://localhost:8080/",
          "height": 287
        },
        "outputId": "4ac9722d-4722-448f-ffd9-a32f60a76b66"
      },
      "outputs": [
        {
          "output_type": "error",
          "ename": "NameError",
          "evalue": "ignored",
          "traceback": [
            "\u001b[0;31m---------------------------------------------------------------------------\u001b[0m",
            "\u001b[0;31mNameError\u001b[0m                                 Traceback (most recent call last)",
            "\u001b[0;32m<ipython-input-1-5c5afc8dc969>\u001b[0m in \u001b[0;36m<module>\u001b[0;34m\u001b[0m\n\u001b[0;32m----> 1\u001b[0;31m \u001b[0mtest_array1\u001b[0m \u001b[0;34m=\u001b[0m \u001b[0mnp\u001b[0m\u001b[0;34m.\u001b[0m\u001b[0marray\u001b[0m\u001b[0;34m(\u001b[0m\u001b[0;34m[\u001b[0m\u001b[0;34m[\u001b[0m\u001b[0;36m2\u001b[0m\u001b[0;34m,\u001b[0m\u001b[0;36m3\u001b[0m\u001b[0;34m,\u001b[0m\u001b[0;36m6\u001b[0m\u001b[0;34m]\u001b[0m\u001b[0;34m,\u001b[0m \u001b[0;34m[\u001b[0m\u001b[0;36m3\u001b[0m\u001b[0;34m,\u001b[0m\u001b[0;36m4\u001b[0m\u001b[0;34m,\u001b[0m\u001b[0;36m5\u001b[0m\u001b[0;34m]\u001b[0m\u001b[0;34m,\u001b[0m \u001b[0;34m[\u001b[0m\u001b[0;36m6\u001b[0m\u001b[0;34m,\u001b[0m\u001b[0;36m5\u001b[0m\u001b[0;34m,\u001b[0m\u001b[0;36m9\u001b[0m\u001b[0;34m]\u001b[0m\u001b[0;34m]\u001b[0m\u001b[0;34m)\u001b[0m\u001b[0;34m\u001b[0m\u001b[0;34m\u001b[0m\u001b[0m\n\u001b[0m\u001b[1;32m      2\u001b[0m \u001b[0mprint\u001b[0m\u001b[0;34m(\u001b[0m\u001b[0mtest_array1\u001b[0m\u001b[0;34m)\u001b[0m\u001b[0;34m\u001b[0m\u001b[0;34m\u001b[0m\u001b[0m\n\u001b[1;32m      3\u001b[0m \u001b[0mtest_array2\u001b[0m \u001b[0;34m=\u001b[0m \u001b[0mnp\u001b[0m\u001b[0;34m.\u001b[0m\u001b[0marray\u001b[0m\u001b[0;34m(\u001b[0m\u001b[0;34m[\u001b[0m\u001b[0;34m[\u001b[0m\u001b[0;36m7\u001b[0m\u001b[0;34m,\u001b[0m\u001b[0;36m6\u001b[0m\u001b[0;34m,\u001b[0m\u001b[0;36m5\u001b[0m\u001b[0;34m]\u001b[0m\u001b[0;34m,\u001b[0m \u001b[0;34m[\u001b[0m\u001b[0;36m6\u001b[0m\u001b[0;34m,\u001b[0m\u001b[0;36m5\u001b[0m\u001b[0;34m,\u001b[0m\u001b[0;36m6\u001b[0m\u001b[0;34m]\u001b[0m\u001b[0;34m,\u001b[0m \u001b[0;34m[\u001b[0m\u001b[0;36m5\u001b[0m\u001b[0;34m,\u001b[0m\u001b[0;36m6\u001b[0m\u001b[0;34m,\u001b[0m\u001b[0;36m9\u001b[0m\u001b[0;34m]\u001b[0m\u001b[0;34m]\u001b[0m\u001b[0;34m)\u001b[0m\u001b[0;34m\u001b[0m\u001b[0;34m\u001b[0m\u001b[0m\n\u001b[1;32m      4\u001b[0m \u001b[0mprint\u001b[0m\u001b[0;34m(\u001b[0m\u001b[0mtest_array2\u001b[0m\u001b[0;34m)\u001b[0m\u001b[0;34m\u001b[0m\u001b[0;34m\u001b[0m\u001b[0m\n",
            "\u001b[0;31mNameError\u001b[0m: name 'np' is not defined"
          ]
        }
      ],
      "source": [
        "#@title Creating sample matrices to check 'is_symmetric()' function. { vertical-output: true, form-width: \"390px\" }\n",
        "test_array1 = np.array([[2,3,6], [3,4,5], [6,5,9]])\n",
        "print(test_array1)\n",
        "test_array2 = np.array([[7,6,5], [6,5,6], [5,6,9]])\n",
        "print(test_array2)"
      ]
    }
  ]
}