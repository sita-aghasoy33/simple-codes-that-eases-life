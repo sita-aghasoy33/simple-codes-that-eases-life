{
 "cells": [
  {
   "cell_type": "code",
   "execution_count": 71,
   "id": "c427a1cc",
   "metadata": {},
   "outputs": [],
   "source": [
    "def decimal2binary(number):\n",
    "    \"\"\"split number into integer and decimal part\"\"\"\n",
    "    orig_text = str(float(number)).split(\".\")\n",
    "    \n",
    "    int_part = int(orig_text[0])\n",
    "    fl_part = float('0.'+orig_text[1])\n",
    "    print(int_part)\n",
    "    print(fl_part)\n",
    "    \n",
    "    \"\"\"define a 'bi_integers' variable to store binary digits of integer part as a string.\"\"\"\n",
    "    bi_integers = ''\n",
    "    \n",
    "    \"\"\"we create 'bi_floats' variable to store binary digits of float part as a string.\"\"\"\n",
    "    bi_floats = ''\n",
    "    \n",
    "    while True:\n",
    "        \"\"\"if the input number is different from '0',\n",
    "        we divide it by 2 and keep the remainder,\n",
    "        until the number itself becomes '0'.\"\"\"\n",
    "        \n",
    "        bi_integers = bi_integers + str(int_part%2)\n",
    "        \"\"\"we add the remainder to our 'binary' string after division\"\"\"\n",
    "        int_part = int_part//2\n",
    "        \"\"\" if the integer part of division has reached to 0, break process, we have done.\"\"\"\n",
    "        if abs(int_part) == 0:\n",
    "            break\n",
    "        \n",
    "    bi_integers = bi_integers[::-1]\n",
    "    print(bi_integers)\n",
    "    \n",
    "    \"\"\"until the float part becomes '0',\n",
    "    we multiple it by 2\n",
    "    and split it into float and integer part, \n",
    "    then multiple the float part of new number again.\"\"\"\n",
    "    while fl_part != 0:\n",
    "        \"\"\"if the number after multiplication is greater than 1\"\"\"\n",
    "        _int_part = int(fl_part * 2) \n",
    "        bi_floats += str(_int_part)\n",
    "        fl_part = fl_part * 2 - _int_part\n",
    "    \n",
    "    \n",
    "        \n",
    "    \"\"\"then we concatenate the integer and float part.\"\"\"\n",
    "    bi_final = bi_integers +  '.' + bi_floats\n",
    "    \n",
    "    \n",
    "    \"\"\"do not forget to 'return' it!!!\"\"\"\n",
    "    return bi_final.rstrip(\".\")\n"
   ]
  },
  {
   "cell_type": "code",
   "execution_count": 72,
   "id": "6dee4b50",
   "metadata": {},
   "outputs": [
    {
     "name": "stdout",
     "output_type": "stream",
     "text": [
      "9\n",
      "0.25\n",
      "1001\n"
     ]
    },
    {
     "data": {
      "text/plain": [
       "'1001.01'"
      ]
     },
     "execution_count": 72,
     "metadata": {},
     "output_type": "execute_result"
    }
   ],
   "source": [
    "#try any number you want\n",
    "num = 9.25\n",
    "decimal2binary(num)"
   ]
  },
  {
   "cell_type": "code",
   "execution_count": 73,
   "id": "a13f51a6",
   "metadata": {},
   "outputs": [
    {
     "name": "stdout",
     "output_type": "stream",
     "text": [
      "Collecting voila"
     ]
    },
    {
     "name": "stderr",
     "output_type": "stream",
     "text": [
      "ERROR: pip's dependency resolver does not currently take into account all the packages that are installed. This behaviour is the source of the following dependency conflicts.\n",
      "spyder-kernels 2.3.3 requires jupyter-client<8,>=7.3.4; python_version >= \"3\", but you have jupyter-client 8.6.3 which is incompatible.\n",
      "jupytext 1.14.1 requires markdown-it-py<3.0.0,>=1.0.0, but you have markdown-it-py 3.0.0 which is incompatible.\n",
      "conda-repo-cli 1.0.20 requires clyent==1.2.1, but you have clyent 1.2.2 which is incompatible.\n",
      "conda-repo-cli 1.0.20 requires nbformat==5.4.0, but you have nbformat 5.10.4 which is incompatible.\n"
     ]
    },
    {
     "name": "stdout",
     "output_type": "stream",
     "text": [
      "\n",
      "  Downloading voila-0.5.8-py3-none-any.whl (4.5 MB)\n",
      "     ---------------------------------------- 4.5/4.5 MB 5.1 MB/s eta 0:00:00\n",
      "Requirement already satisfied: jupyterlab-server<3,>=2.3.0 in c:\\users\\saghayeva\\anaconda3\\lib\\site-packages (from voila) (2.10.3)\n",
      "Requirement already satisfied: traitlets<6,>=5.0.3 in c:\\users\\saghayeva\\anaconda3\\lib\\site-packages (from voila) (5.9.0)\n",
      "Collecting nbconvert<8,>=6.4.5\n",
      "  Downloading nbconvert-7.16.4-py3-none-any.whl (257 kB)\n",
      "     -------------------------------------- 257.4/257.4 kB 8.0 MB/s eta 0:00:00\n",
      "Requirement already satisfied: jupyter-server<3,>=1.18 in c:\\users\\saghayeva\\anaconda3\\lib\\site-packages (from voila) (1.18.1)\n",
      "Requirement already satisfied: nbclient>=0.4.0 in c:\\users\\saghayeva\\anaconda3\\lib\\site-packages (from voila) (0.5.13)\n",
      "Collecting websockets>=9.0\n",
      "  Downloading websockets-14.1-cp39-cp39-win_amd64.whl (163 kB)\n",
      "     -------------------------------------- 163.3/163.3 kB 1.4 MB/s eta 0:00:00\n",
      "Collecting jupyter-client<9,>=7.4.4\n",
      "  Downloading jupyter_client-8.6.3-py3-none-any.whl (106 kB)\n",
      "     -------------------------------------- 106.1/106.1 kB 3.1 MB/s eta 0:00:00\n",
      "Requirement already satisfied: jupyter-core>=4.11.0 in c:\\users\\saghayeva\\anaconda3\\lib\\site-packages (from voila) (5.2.0)\n",
      "Requirement already satisfied: importlib-metadata>=4.8.3 in c:\\users\\saghayeva\\anaconda3\\lib\\site-packages (from jupyter-client<9,>=7.4.4->voila) (4.11.3)\n",
      "Requirement already satisfied: pyzmq>=23.0 in c:\\users\\saghayeva\\anaconda3\\lib\\site-packages (from jupyter-client<9,>=7.4.4->voila) (23.2.0)\n",
      "Requirement already satisfied: python-dateutil>=2.8.2 in c:\\users\\saghayeva\\anaconda3\\lib\\site-packages (from jupyter-client<9,>=7.4.4->voila) (2.8.2)\n",
      "Requirement already satisfied: tornado>=6.2 in c:\\users\\saghayeva\\anaconda3\\lib\\site-packages (from jupyter-client<9,>=7.4.4->voila) (6.2)\n",
      "Requirement already satisfied: platformdirs>=2.5 in c:\\users\\saghayeva\\anaconda3\\lib\\site-packages (from jupyter-core>=4.11.0->voila) (2.5.2)\n",
      "Requirement already satisfied: pywin32>=1.0 in c:\\users\\saghayeva\\anaconda3\\lib\\site-packages (from jupyter-core>=4.11.0->voila) (302)\n",
      "Requirement already satisfied: packaging in c:\\users\\saghayeva\\anaconda3\\lib\\site-packages (from jupyter-server<3,>=1.18->voila) (21.3)\n",
      "Requirement already satisfied: argon2-cffi in c:\\users\\saghayeva\\anaconda3\\lib\\site-packages (from jupyter-server<3,>=1.18->voila) (21.3.0)\n",
      "Requirement already satisfied: nbformat>=5.2.0 in c:\\users\\saghayeva\\anaconda3\\lib\\site-packages (from jupyter-server<3,>=1.18->voila) (5.5.0)\n",
      "Requirement already satisfied: terminado>=0.8.3 in c:\\users\\saghayeva\\anaconda3\\lib\\site-packages (from jupyter-server<3,>=1.18->voila) (0.13.1)\n",
      "Requirement already satisfied: Send2Trash in c:\\users\\saghayeva\\anaconda3\\lib\\site-packages (from jupyter-server<3,>=1.18->voila) (1.8.0)\n",
      "Requirement already satisfied: websocket-client in c:\\users\\saghayeva\\anaconda3\\lib\\site-packages (from jupyter-server<3,>=1.18->voila) (1.8.0)\n",
      "Requirement already satisfied: prometheus-client in c:\\users\\saghayeva\\anaconda3\\lib\\site-packages (from jupyter-server<3,>=1.18->voila) (0.14.1)\n",
      "Requirement already satisfied: anyio<4,>=3.1.0 in c:\\users\\saghayeva\\anaconda3\\lib\\site-packages (from jupyter-server<3,>=1.18->voila) (3.5.0)\n",
      "Requirement already satisfied: jinja2 in c:\\users\\saghayeva\\anaconda3\\lib\\site-packages (from jupyter-server<3,>=1.18->voila) (3.1.2)\n",
      "Requirement already satisfied: pywinpty in c:\\users\\saghayeva\\anaconda3\\lib\\site-packages (from jupyter-server<3,>=1.18->voila) (2.0.2)\n",
      "Requirement already satisfied: babel in c:\\users\\saghayeva\\anaconda3\\lib\\site-packages (from jupyterlab-server<3,>=2.3.0->voila) (2.9.1)\n",
      "Requirement already satisfied: entrypoints>=0.2.2 in c:\\users\\saghayeva\\anaconda3\\lib\\site-packages (from jupyterlab-server<3,>=2.3.0->voila) (0.4)\n",
      "Requirement already satisfied: json5 in c:\\users\\saghayeva\\anaconda3\\lib\\site-packages (from jupyterlab-server<3,>=2.3.0->voila) (0.9.6)\n",
      "Requirement already satisfied: requests in c:\\users\\saghayeva\\anaconda3\\lib\\site-packages (from jupyterlab-server<3,>=2.3.0->voila) (2.28.1)\n",
      "Requirement already satisfied: jsonschema>=3.0.1 in c:\\users\\saghayeva\\anaconda3\\lib\\site-packages (from jupyterlab-server<3,>=2.3.0->voila) (4.16.0)\n",
      "Requirement already satisfied: nest-asyncio in c:\\users\\saghayeva\\anaconda3\\lib\\site-packages (from nbclient>=0.4.0->voila) (1.5.5)\n",
      "Requirement already satisfied: markupsafe>=2.0 in c:\\users\\saghayeva\\anaconda3\\lib\\site-packages (from nbconvert<8,>=6.4.5->voila) (2.0.1)\n",
      "Requirement already satisfied: pandocfilters>=1.4.1 in c:\\users\\saghayeva\\anaconda3\\lib\\site-packages (from nbconvert<8,>=6.4.5->voila) (1.5.0)\n",
      "Requirement already satisfied: beautifulsoup4 in c:\\users\\saghayeva\\anaconda3\\lib\\site-packages (from nbconvert<8,>=6.4.5->voila) (4.11.1)\n",
      "Collecting mistune<4,>=2.0.3\n",
      "  Downloading mistune-3.0.2-py3-none-any.whl (47 kB)\n",
      "     ---------------------------------------- 48.0/48.0 kB 2.4 MB/s eta 0:00:00\n",
      "Requirement already satisfied: bleach!=5.0.0 in c:\\users\\saghayeva\\anaconda3\\lib\\site-packages (from nbconvert<8,>=6.4.5->voila) (4.1.0)\n",
      "Requirement already satisfied: pygments>=2.4.1 in c:\\users\\saghayeva\\anaconda3\\lib\\site-packages (from nbconvert<8,>=6.4.5->voila) (2.17.2)\n",
      "Collecting tinycss2\n",
      "  Downloading tinycss2-1.4.0-py3-none-any.whl (26 kB)\n",
      "Collecting nbformat>=5.2.0\n",
      "  Downloading nbformat-5.10.4-py3-none-any.whl (78 kB)\n",
      "     ---------------------------------------- 78.5/78.5 kB 4.5 MB/s eta 0:00:00\n",
      "Requirement already satisfied: jupyterlab-pygments in c:\\users\\saghayeva\\anaconda3\\lib\\site-packages (from nbconvert<8,>=6.4.5->voila) (0.1.2)\n",
      "Requirement already satisfied: defusedxml in c:\\users\\saghayeva\\anaconda3\\lib\\site-packages (from nbconvert<8,>=6.4.5->voila) (0.7.1)\n",
      "Requirement already satisfied: idna>=2.8 in c:\\users\\saghayeva\\anaconda3\\lib\\site-packages (from anyio<4,>=3.1.0->jupyter-server<3,>=1.18->voila) (3.3)\n",
      "Requirement already satisfied: sniffio>=1.1 in c:\\users\\saghayeva\\anaconda3\\lib\\site-packages (from anyio<4,>=3.1.0->jupyter-server<3,>=1.18->voila) (1.3.1)\n",
      "Requirement already satisfied: webencodings in c:\\users\\saghayeva\\anaconda3\\lib\\site-packages (from bleach!=5.0.0->nbconvert<8,>=6.4.5->voila) (0.5.1)\n",
      "Requirement already satisfied: six>=1.9.0 in c:\\users\\saghayeva\\anaconda3\\lib\\site-packages (from bleach!=5.0.0->nbconvert<8,>=6.4.5->voila) (1.16.0)\n",
      "Requirement already satisfied: zipp>=0.5 in c:\\users\\saghayeva\\anaconda3\\lib\\site-packages (from importlib-metadata>=4.8.3->jupyter-client<9,>=7.4.4->voila) (3.8.0)\n",
      "Requirement already satisfied: attrs>=17.4.0 in c:\\users\\saghayeva\\anaconda3\\lib\\site-packages (from jsonschema>=3.0.1->jupyterlab-server<3,>=2.3.0->voila) (24.2.0)\n",
      "Requirement already satisfied: pyrsistent!=0.17.0,!=0.17.1,!=0.17.2,>=0.14.0 in c:\\users\\saghayeva\\anaconda3\\lib\\site-packages (from jsonschema>=3.0.1->jupyterlab-server<3,>=2.3.0->voila) (0.18.0)\n",
      "Requirement already satisfied: fastjsonschema>=2.15 in c:\\users\\saghayeva\\anaconda3\\lib\\site-packages (from nbformat>=5.2.0->jupyter-server<3,>=1.18->voila) (2.16.2)\n",
      "Requirement already satisfied: argon2-cffi-bindings in c:\\users\\saghayeva\\anaconda3\\lib\\site-packages (from argon2-cffi->jupyter-server<3,>=1.18->voila) (21.2.0)\n",
      "Requirement already satisfied: pytz>=2015.7 in c:\\users\\saghayeva\\anaconda3\\lib\\site-packages (from babel->jupyterlab-server<3,>=2.3.0->voila) (2022.1)\n",
      "Requirement already satisfied: soupsieve>1.2 in c:\\users\\saghayeva\\anaconda3\\lib\\site-packages (from beautifulsoup4->nbconvert<8,>=6.4.5->voila) (2.3.1)\n",
      "Requirement already satisfied: pyparsing!=3.0.5,>=2.0.2 in c:\\users\\saghayeva\\anaconda3\\lib\\site-packages (from packaging->jupyter-server<3,>=1.18->voila) (3.0.9)\n",
      "Requirement already satisfied: charset-normalizer<3,>=2 in c:\\users\\saghayeva\\anaconda3\\lib\\site-packages (from requests->jupyterlab-server<3,>=2.3.0->voila) (2.0.4)\n",
      "Requirement already satisfied: certifi>=2017.4.17 in c:\\users\\saghayeva\\anaconda3\\lib\\site-packages (from requests->jupyterlab-server<3,>=2.3.0->voila) (2022.9.24)\n",
      "Requirement already satisfied: urllib3<1.27,>=1.21.1 in c:\\users\\saghayeva\\anaconda3\\lib\\site-packages (from requests->jupyterlab-server<3,>=2.3.0->voila) (1.26.11)\n",
      "Requirement already satisfied: cffi>=1.0.1 in c:\\users\\saghayeva\\anaconda3\\lib\\site-packages (from argon2-cffi-bindings->argon2-cffi->jupyter-server<3,>=1.18->voila) (1.15.1)\n",
      "Requirement already satisfied: pycparser in c:\\users\\saghayeva\\anaconda3\\lib\\site-packages (from cffi>=1.0.1->argon2-cffi-bindings->argon2-cffi->jupyter-server<3,>=1.18->voila) (2.21)\n",
      "Installing collected packages: websockets, tinycss2, mistune, nbformat, jupyter-client, nbconvert, voila\n",
      "  Attempting uninstall: mistune\n",
      "    Found existing installation: mistune 0.8.4\n",
      "    Uninstalling mistune-0.8.4:\n",
      "      Successfully uninstalled mistune-0.8.4\n",
      "  Attempting uninstall: nbformat\n",
      "    Found existing installation: nbformat 5.5.0\n",
      "    Uninstalling nbformat-5.5.0:\n",
      "      Successfully uninstalled nbformat-5.5.0\n",
      "  Attempting uninstall: jupyter-client\n",
      "    Found existing installation: jupyter_client 7.3.5\n",
      "    Uninstalling jupyter_client-7.3.5:\n",
      "      Successfully uninstalled jupyter_client-7.3.5\n",
      "  Attempting uninstall: nbconvert\n",
      "    Found existing installation: nbconvert 6.4.4\n",
      "    Uninstalling nbconvert-6.4.4:\n",
      "      Successfully uninstalled nbconvert-6.4.4\n",
      "Successfully installed jupyter-client-8.6.3 mistune-3.0.2 nbconvert-7.16.4 nbformat-5.10.4 tinycss2-1.4.0 voila-0.5.8 websockets-14.1\n"
     ]
    }
   ],
   "source": [
    "!pip install voila"
   ]
  },
  {
   "cell_type": "code",
   "execution_count": 76,
   "id": "827e838b",
   "metadata": {},
   "outputs": [
    {
     "ename": "SyntaxError",
     "evalue": "invalid syntax (2975789700.py, line 1)",
     "output_type": "error",
     "traceback": [
      "\u001b[1;36m  File \u001b[1;32m\"C:\\Users\\saghayeva\\AppData\\Local\\Temp\\ipykernel_19476\\2975789700.py\"\u001b[1;36m, line \u001b[1;32m1\u001b[0m\n\u001b[1;33m    voila Untitled17.ipynb\u001b[0m\n\u001b[1;37m          ^\u001b[0m\n\u001b[1;31mSyntaxError\u001b[0m\u001b[1;31m:\u001b[0m invalid syntax\n"
     ]
    }
   ],
   "source": []
  },
  {
   "cell_type": "code",
   "execution_count": null,
   "id": "e414b919",
   "metadata": {},
   "outputs": [],
   "source": []
  }
 ],
 "metadata": {
  "kernelspec": {
   "display_name": "Python 3 (ipykernel)",
   "language": "python",
   "name": "python3"
  },
  "language_info": {
   "codemirror_mode": {
    "name": "ipython",
    "version": 3
   },
   "file_extension": ".py",
   "mimetype": "text/x-python",
   "name": "python",
   "nbconvert_exporter": "python",
   "pygments_lexer": "ipython3",
   "version": "3.9.12"
  }
 },
 "nbformat": 4,
 "nbformat_minor": 5
}
